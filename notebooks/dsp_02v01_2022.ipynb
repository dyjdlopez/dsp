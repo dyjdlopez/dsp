{
  "nbformat": 4,
  "nbformat_minor": 0,
  "metadata": {
    "colab": {
      "name": "dsp-02v01-2022",
      "provenance": [],
      "authorship_tag": "ABX9TyPQmWn6dSJCgeJ/9DiprVQ6",
      "include_colab_link": true
    },
    "kernelspec": {
      "name": "python3",
      "display_name": "Python 3"
    },
    "language_info": {
      "name": "python"
    }
  },
  "cells": [
    {
      "cell_type": "markdown",
      "metadata": {
        "id": "view-in-github",
        "colab_type": "text"
      },
      "source": [
        "<a href=\"https://colab.research.google.com/github/dyjdlopez/dsp/blob/main/notebooks/dsp_02v01_2022.ipynb\" target=\"_parent\"><img src=\"https://colab.research.google.com/assets/colab-badge.svg\" alt=\"Open In Colab\"/></a>"
      ]
    },
    {
      "cell_type": "markdown",
      "source": [
        "# Lab 02: Discrete-Time Signals\n",
        "$_{\\text{©D.J. Lopez | 2022 | Digital Signals Processing}}$\n",
        "\n",
        "In this laboratory we will be looking at characterizing discrete-time signals. We will also look at the different types of signals that we will be encountering in future analyses.  "
      ],
      "metadata": {
        "id": "NYvdM5pWzJeZ"
      }
    },
    {
      "cell_type": "markdown",
      "source": [
        "## Plotting Discrete-Time Signals"
      ],
      "metadata": {
        "id": "WSR_OlqozaUp"
      }
    },
    {
      "cell_type": "code",
      "execution_count": 1,
      "metadata": {
        "id": "D7N3YyRqzIiL"
      },
      "outputs": [],
      "source": [
        "import numpy as np\n",
        "import scipy.signal as sig\n",
        "from matplotlib import pyplot as plt\n",
        "import seaborn as sns"
      ]
    },
    {
      "cell_type": "markdown",
      "source": [
        "## Types of Discrete-Time Signals"
      ],
      "metadata": {
        "id": "4Wn3mL5_zeqB"
      }
    },
    {
      "cell_type": "markdown",
      "source": [
        "### Unit Signal (Delta)"
      ],
      "metadata": {
        "id": "iKObUyVvziNg"
      }
    },
    {
      "cell_type": "markdown",
      "source": [
        "$$x[n] = \\delta[n] = \n",
        "\\begin{cases}\n",
        "1 \\text{ if } n\\geq 0 \\\\\n",
        "0 \\text{ otherwise }\n",
        "\\end{cases}$$"
      ],
      "metadata": {
        "id": "uC8Dg4dHzwNJ"
      }
    },
    {
      "cell_type": "code",
      "source": [
        "min,max = -5, 5\n",
        "N = np.arange(min, max+1)\n",
        "delta_sig = sig.unit_impulse(N.shape, idx='mid')"
      ],
      "metadata": {
        "id": "zIVAGPNszhhI"
      },
      "execution_count": 2,
      "outputs": []
    },
    {
      "cell_type": "code",
      "source": [
        "def disc_plot(x, y, title, func_name='f[n]'):\n",
        "  plt.figure(figsize=(8,5))\n",
        "  plt.title(title)\n",
        "  plt.xlabel(\"n\")\n",
        "  plt.ylabel(func_name)\n",
        "  plt.stem(x,y,use_line_collection=True)\n",
        "  plt.grid()\n",
        "  plt.show()\n",
        "  \n",
        "  "
      ],
      "metadata": {
        "id": "2mCOZdCi6Uum"
      },
      "execution_count": 3,
      "outputs": []
    },
    {
      "cell_type": "code",
      "source": [
        "disc_plot(N, delta_sig, \"Impulse Signal\")"
      ],
      "metadata": {
        "colab": {
          "base_uri": "https://localhost:8080/",
          "height": 350
        },
        "id": "fYqYxpJm5_9X",
        "outputId": "00b9ca8f-08a4-4b68-9844-8838480f9c36"
      },
      "execution_count": 4,
      "outputs": [
        {
          "output_type": "display_data",
          "data": {
            "image/png": "[encoded data removed]",
            "text/plain": [
              "<Figure size 576x360 with 1 Axes>"
            ]
          },
          "metadata": {
            "needs_background": "light"
          }
        }
      ]
    },
    {
      "cell_type": "markdown",
      "source": [
        "### Unit Step\n",
        "$$x[n] = u[n] = \\begin{cases}\n",
        "1 \\text{ if } n\\geq 0 \\\\\n",
        "0 \\text{ if } n< 0\n",
        "\\end{cases}$$"
      ],
      "metadata": {
        "id": "txRmzzwf-0oX"
      }
    },
    {
      "cell_type": "code",
      "source": [
        "min,max = -5, 5\n",
        "N = np.arange(min, max+1)\n",
        "unit_step = np.ones(N.shape)\n",
        "unit_step[N<0]=0\n",
        "\n",
        "disc_plot(N, unit_step, ' Unit Signal')"
      ],
      "metadata": {
        "colab": {
          "base_uri": "https://localhost:8080/",
          "height": 350
        },
        "id": "OsmaYH7H8q5X",
        "outputId": "ee674082-0951-4ef5-fd9e-7c6d50b7d717"
      },
      "execution_count": 5,
      "outputs": [
        {
          "output_type": "display_data",
          "data": {
            "image/png": "[encoded data removed]",
            "text/plain": [
              "<Figure size 576x360 with 1 Axes>"
            ]
          },
          "metadata": {
            "needs_background": "light"
          }
        }
      ]
    },
    {
      "cell_type": "markdown",
      "source": [
        "### Ramp Signal\n",
        "\n",
        "$$x[n]=n\\cdot u[n] =r[n]=\\begin{cases}\n",
        "n \\text{ if } n\\geq 0 \\\\\n",
        "0 \\text{ if } n< 0\n",
        "\\end{cases}$$"
      ],
      "metadata": {
        "id": "23AfPAwjBCff"
      }
    },
    {
      "cell_type": "code",
      "source": [
        "min,max = -5, 5\n",
        "N = np.arange(min, max+1)\n",
        "ramp_step = N * unit_step\n",
        "\n",
        "disc_plot(N, ramp_step, 'Ramp Signal')"
      ],
      "metadata": {
        "colab": {
          "base_uri": "https://localhost:8080/",
          "height": 350
        },
        "id": "hIH0mFtPBCA2",
        "outputId": "4f34ae0d-9121-42e8-9023-cd771c87b581"
      },
      "execution_count": 6,
      "outputs": [
        {
          "output_type": "display_data",
          "data": {
            "image/png": "[encoded data removed]",
            "text/plain": [
              "<Figure size 576x360 with 1 Axes>"
            ]
          },
          "metadata": {
            "needs_background": "light"
          }
        }
      ]
    },
    {
      "cell_type": "markdown",
      "source": [
        "### Exponential Decay\n",
        "$$x[n]=|a|^n\\cdot u[n] =exp[n]; 0 < a\\leq 1$$"
      ],
      "metadata": {
        "id": "bdSRGBwVFyA3"
      }
    },
    {
      "cell_type": "code",
      "source": [
        "min,max = -10, 10\n",
        "N = np.arange(min, max+1)\n",
        "unit_step = np.ones(N.shape)\n",
        "unit_step[N<0]=0\n",
        "alpha = 0.6\n",
        "exp_decay = (alpha**N) * unit_step\n",
        "\n",
        "disc_plot(N, exp_decay, 'Exponential Decay')"
      ],
      "metadata": {
        "id": "ZMsuzX1oBnQv",
        "colab": {
          "base_uri": "https://localhost:8080/",
          "height": 350
        },
        "outputId": "f59d6b64-9c33-4405-b459-fadd97d16f51"
      },
      "execution_count": 7,
      "outputs": [
        {
          "output_type": "display_data",
          "data": {
            "image/png": "[encoded data removed]",
            "text/plain": [
              "<Figure size 576x360 with 1 Axes>"
            ]
          },
          "metadata": {
            "needs_background": "light"
          }
        }
      ]
    },
    {
      "cell_type": "markdown",
      "source": [
        "### Sinusoidal Signals\n",
        "$$x[n] = sin[\\omega_0 n + \\theta]$$"
      ],
      "metadata": {
        "id": "nAlBuFDRHS3m"
      }
    },
    {
      "cell_type": "code",
      "source": [
        "min,max = -2*np.pi, 2*np.pi\n",
        "rate=50\n",
        "step = np.abs(max-min)/rate\n",
        "N = np.arange(min, max+1, step)\n",
        "\n",
        "omega = 1\n",
        "theta = 0\n",
        "sin_sig = np.sin(omega*N+theta)\n",
        "\n",
        "disc_plot(N, sin_sig, 'Sine Signal')"
      ],
      "metadata": {
        "colab": {
          "base_uri": "https://localhost:8080/",
          "height": 350
        },
        "id": "OXdy5jWIHSNZ",
        "outputId": "94ea4ac9-9b20-4157-a480-70e0f07be182"
      },
      "execution_count": 8,
      "outputs": [
        {
          "output_type": "display_data",
          "data": {
            "image/png": "[encoded data removed]",
            "text/plain": [
              "<Figure size 576x360 with 1 Axes>"
            ]
          },
          "metadata": {
            "needs_background": "light"
          }
        }
      ]
    }
  ]
}